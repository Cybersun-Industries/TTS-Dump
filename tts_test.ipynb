{
 "cells": [
  {
   "attachments": {},
   "cell_type": "markdown",
   "metadata": {},
   "source": [
    "Генератор голосов"
   ]
  },
  {
   "cell_type": "code",
   "execution_count": 2,
   "metadata": {},
   "outputs": [
    {
     "ename": "ModuleNotFoundError",
     "evalue": "No module named 'SpeakerPatch'",
     "output_type": "error",
     "traceback": [
      "\u001b[1;31m---------------------------------------------------------------------------\u001b[0m",
      "\u001b[1;31mModuleNotFoundError\u001b[0m                       Traceback (most recent call last)",
      "Cell \u001b[1;32mIn[2], line 3\u001b[0m\n\u001b[0;32m      1\u001b[0m \u001b[39mfrom\u001b[39;00m \u001b[39mss14tts\u001b[39;00m \u001b[39mimport\u001b[39;00m model, example_text, speakers\n\u001b[0;32m      2\u001b[0m \u001b[39mfrom\u001b[39;00m \u001b[39mIPython\u001b[39;00m\u001b[39m.\u001b[39;00m\u001b[39mdisplay\u001b[39;00m \u001b[39mimport\u001b[39;00m Audio, display\n\u001b[1;32m----> 3\u001b[0m \u001b[39mfrom\u001b[39;00m \u001b[39msrc\u001b[39;00m\u001b[39m.\u001b[39;00m\u001b[39mAutoGenerator\u001b[39;00m \u001b[39mimport\u001b[39;00m Generate\n",
      "File \u001b[1;32me:\\src2020\\ss14-tts-api\\src\\AutoGenerator.py:2\u001b[0m\n\u001b[0;32m      1\u001b[0m \u001b[39mimport\u001b[39;00m \u001b[39mrandom\u001b[39;00m\n\u001b[1;32m----> 2\u001b[0m \u001b[39mfrom\u001b[39;00m \u001b[39mSpeakerPatch\u001b[39;00m \u001b[39mimport\u001b[39;00m dynVoices\n\u001b[0;32m      4\u001b[0m example_text \u001b[39m=\u001b[39m [\u001b[39m\"\u001b[39m\u001b[39mСъешь же ещё этих мягких французских булок, да выпей чаю.\u001b[39m\u001b[39m\"\u001b[39m,\n\u001b[0;32m      5\u001b[0m         \u001b[39m\"\u001b[39m\u001b[39mКлоун, прекрати разбрасывать банановые кожурки офицерам под ноги!\u001b[39m\u001b[39m\"\u001b[39m,\n\u001b[0;32m      6\u001b[0m         \u001b[39m\"\u001b[39m\u001b[39mКапитан, вы уверены что хотите назначить клоуна на должность главы персонала?\u001b[39m\u001b[39m\"\u001b[39m,\n\u001b[0;32m      7\u001b[0m         \u001b[39m\"\u001b[39m\u001b[39mЭс Бэ! Тут человек в сером костюме, с тулбоксом и в маске! Помогите!!\u001b[39m\u001b[39m\"\u001b[39m]\n\u001b[0;32m      8\u001b[0m \u001b[39mdef\u001b[39;00m \u001b[39mGenerate\u001b[39m(model,ct):\n",
      "\u001b[1;31mModuleNotFoundError\u001b[0m: No module named 'SpeakerPatch'"
     ]
    }
   ],
   "source": [
    "from ss14tts import model, example_text, speakers\n",
    "from IPython.display import Audio, display\n",
    "from src.AutoGenerator import Generate\n",
    "\n",
    "sample_rate = 24000\n",
    "\n",
    "for _, idx in enumerate(Generate(model,20)):\n",
    "    print(\"Void\"+str(idx))\n",
    "    audio = model.apply_tts(text=example_text, speaker=speaker,voice_path=voiceFile,sample_rate=sample_rate)"
   ]
  },
  {
   "attachments": {},
   "cell_type": "markdown",
   "metadata": {},
   "source": [
    "Тестирование преобразования не доступных голосов"
   ]
  },
  {
   "cell_type": "code",
   "execution_count": null,
   "metadata": {},
   "outputs": [],
   "source": [
    "from ss14tts import model, example_text, speakers\n",
    "from src.SpeakerPatch import speakers_not_avaible, SpeakerPatchInit,SpeakerPatch\n",
    "\n",
    "from IPython.display import Audio, display\n",
    "\n",
    "sample_rate = 24000\n",
    "\n",
    "SpeakerPatchInit(model, example_text)\n",
    "\n",
    "for _, gender in enumerate(speakers_not_avaible):\n",
    "    for _, speaker in enumerate(speakers_not_avaible[gender]):\n",
    "        speaker, voiceFile = SpeakerPatch(speaker,speakers)\n",
    "        audio = model.apply_tts(text=example_text, speaker=speaker,voice_path=voiceFile,sample_rate=sample_rate)\n",
    "        print('speaker {} with {}'.format(speaker, voiceFile))\n",
    "        display(Audio(audio, rate=sample_rate))\n"
   ]
  }
 ],
 "metadata": {
  "kernelspec": {
   "display_name": "Python 3",
   "language": "python",
   "name": "python3"
  },
  "language_info": {
   "codemirror_mode": {
    "name": "ipython",
    "version": 3
   },
   "file_extension": ".py",
   "mimetype": "text/x-python",
   "name": "python",
   "nbconvert_exporter": "python",
   "pygments_lexer": "ipython3",
   "version": "3.9.7"
  },
  "orig_nbformat": 4,
  "vscode": {
   "interpreter": {
    "hash": "c347c8f9a7ef94e4c9e03b4513be7835ed18f45b99a2a817fb579f408b867b16"
   }
  }
 },
 "nbformat": 4,
 "nbformat_minor": 2
}
