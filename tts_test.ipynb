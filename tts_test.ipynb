{
 "cells": [
  {
   "attachments": {},
   "cell_type": "markdown",
   "metadata": {},
   "source": [
    "Установка зависимостей"
   ]
  },
  {
   "cell_type": "code",
   "execution_count": null,
   "metadata": {
    "vscode": {
     "languageId": "powershell"
    }
   },
   "outputs": [],
   "source": [
    "!pip3 install -r ./requirements.txt --extra-index-url https://download.pytorch.org/whl/cu116"
   ]
  },
  {
   "attachments": {},
   "cell_type": "markdown",
   "metadata": {},
   "source": [
    "Прослушивание текущих голосов"
   ]
  },
  {
   "cell_type": "code",
   "execution_count": null,
   "metadata": {},
   "outputs": [],
   "source": [
    "from ss14tts import model, speakers\n",
    "from IPython.display import Audio, display\n",
    "from src.SpeakerPatch import dynVoices\n",
    "import random, glob, os\n",
    "\n",
    "sample_rate = 24000\n",
    "example_text = [\"Съешь же ещё этих мягких французских булок, да выпей чаю.\",\n",
    "        \"Клоун, прекрати разбрасывать банановые кожурки офицерам под ноги!\",\n",
    "        \"Капитан, вы уверены что хотите назначить клоуна на должность главы персонала?\",\n",
    "        \"Эс Бэ! Тут человек в сером костюме, с тулбоксом и в маске! Помогите!!\"]\n",
    "\n",
    "for voiceFile in glob.glob(dynVoices+'/*.pt'):\n",
    "    audio = model.apply_tts(text=random.choice(example_text), speaker=\"random\",voice_path=voiceFile,sample_rate=sample_rate)\n",
    "    speaker = os.path.relpath(voiceFile,dynVoices)\n",
    "    print('speaker {} with {}'.format(speaker, voiceFile))\n",
    "    display(Audio(audio, rate=sample_rate))\n"
   ]
  },
  {
   "attachments": {},
   "cell_type": "markdown",
   "metadata": {},
   "source": [
    "Генератор голосов"
   ]
  },
  {
   "cell_type": "code",
   "execution_count": 3,
   "metadata": {},
   "outputs": [
    {
     "name": "stderr",
     "output_type": "stream",
     "text": [
      "Using cache found in C:\\Users\\backm/.cache\\torch\\hub\\snakers4_silero-models_master\n"
     ]
    },
    {
     "data": {
      "text/plain": [
       "<generator object Generate at 0x000001CACEBDC0B0>"
      ]
     },
     "execution_count": 3,
     "metadata": {},
     "output_type": "execute_result"
    }
   ],
   "source": [
    "from ss14tts import model\n",
    "from src.AutoGenerator import Generate\n",
    "\n",
    "for voiceFile in Generate(model,5):  # 20 голосов создает, голоса будет идти с 1\n",
    "    print(voiceFile)\n"
   ]
  },
  {
   "attachments": {},
   "cell_type": "markdown",
   "metadata": {},
   "source": [
    "Тестирование преобразования не доступных голосов"
   ]
  },
  {
   "cell_type": "code",
   "execution_count": null,
   "metadata": {},
   "outputs": [],
   "source": [
    "from ss14tts import model, example_text, speakers\n",
    "from src.SpeakerPatch import speakers_not_avaible, SpeakerPatchInit,SpeakerPatch\n",
    "\n",
    "from IPython.display import Audio, display\n",
    "\n",
    "sample_rate = 24000\n",
    "\n",
    "SpeakerPatchInit(model, example_text)\n",
    "\n",
    "for _, gender in enumerate(speakers_not_avaible):\n",
    "    for _, speaker in enumerate(speakers_not_avaible[gender]):\n",
    "        speaker, voiceFile = SpeakerPatch(speaker,speakers)\n",
    "        audio = model.apply_tts(text=example_text, speaker=speaker,voice_path=voiceFile,sample_rate=sample_rate)\n",
    "        print('speaker {} with {}'.format(speaker, voiceFile))\n",
    "        display(Audio(audio, rate=sample_rate))\n"
   ]
  }
 ],
 "metadata": {
  "kernelspec": {
   "display_name": "Python 3.9.12 64-bit",
   "language": "python",
   "name": "python3"
  },
  "language_info": {
   "codemirror_mode": {
    "name": "ipython",
    "version": 3
   },
   "file_extension": ".py",
   "mimetype": "text/x-python",
   "name": "python",
   "nbconvert_exporter": "python",
   "pygments_lexer": "ipython3",
   "version": "3.9.12"
  },
  "orig_nbformat": 4,
  "vscode": {
   "interpreter": {
    "hash": "81794d4967e6c3204c66dcd87b604927b115b27c00565d3d43f05ba2f3a2cb0d"
   }
  }
 },
 "nbformat": 4,
 "nbformat_minor": 2
}
